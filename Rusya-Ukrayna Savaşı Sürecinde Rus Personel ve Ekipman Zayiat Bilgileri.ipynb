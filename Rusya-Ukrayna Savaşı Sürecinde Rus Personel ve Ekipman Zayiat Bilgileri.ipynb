{
 "cells": [
  {
   "cell_type": "code",
   "execution_count": 2,
   "id": "8a5e2295",
   "metadata": {},
   "outputs": [],
   "source": [
    "#Pandas kütüphanesini ekleyelim\n",
    "import pandas as pd"
   ]
  },
  {
   "cell_type": "markdown",
   "id": "eb460eab",
   "metadata": {},
   "source": []
  },
  {
   "cell_type": "code",
   "execution_count": 4,
   "id": "660e886b",
   "metadata": {},
   "outputs": [],
   "source": [
    "df=pd.read_csv(\"rus-personel.csv\")"
   ]
  },
  {
   "cell_type": "code",
   "execution_count": 3,
   "id": "5b1b2a10",
   "metadata": {},
   "outputs": [
    {
     "name": "stdout",
     "output_type": "stream",
     "text": [
      "         date  day  personnel personnel*  POW\n",
      "0  2024-10-13  963     668930      about  NaN\n",
      "1  2024-10-12  962     667630      about  NaN\n",
      "2  2024-10-11  961     666340      about  NaN\n",
      "3  2024-10-10  960     665200      about  NaN\n",
      "4  2024-10-09  959     664120      about  NaN\n"
     ]
    }
   ],
   "source": [
    "#İlk birkaç satırı görelim\n",
    "print(df.head())"
   ]
  },
  {
   "cell_type": "code",
   "execution_count": 4,
   "id": "51e01399",
   "metadata": {},
   "outputs": [
    {
     "name": "stdout",
     "output_type": "stream",
     "text": [
      "(962, 5)\n"
     ]
    }
   ],
   "source": [
    "#Verinin boyunu inceleyelim\n",
    "print(df.shape)"
   ]
  },
  {
   "cell_type": "code",
   "execution_count": 5,
   "id": "688cb623",
   "metadata": {},
   "outputs": [
    {
     "name": "stdout",
     "output_type": "stream",
     "text": [
      "date           object\n",
      "day             int64\n",
      "personnel       int64\n",
      "personnel*     object\n",
      "POW           float64\n",
      "dtype: object\n",
      "Index(['date', 'day', 'personnel', 'personnel*', 'POW'], dtype='object')\n"
     ]
    }
   ],
   "source": [
    "print(df.dtypes)\n",
    "print(df.columns)"
   ]
  },
  {
   "cell_type": "code",
   "execution_count": 6,
   "id": "27b2d272",
   "metadata": {},
   "outputs": [
    {
     "name": "stdout",
     "output_type": "stream",
     "text": [
      "date            0\n",
      "day             0\n",
      "personnel       0\n",
      "personnel*      0\n",
      "POW           900\n",
      "dtype: int64\n"
     ]
    }
   ],
   "source": [
    "#Eksik verilerin kontrolü\n",
    "print(df.isnull().sum())"
   ]
  },
  {
   "cell_type": "code",
   "execution_count": 7,
   "id": "c32b5cdf",
   "metadata": {},
   "outputs": [
    {
     "name": "stdout",
     "output_type": "stream",
     "text": [
      "         date  day  personnel personnel*         POW\n",
      "0  2024-10-13  963     668930      about  386.387097\n",
      "1  2024-10-12  962     667630      about  386.387097\n",
      "2  2024-10-11  961     666340      about  386.387097\n",
      "3  2024-10-10  960     665200      about  386.387097\n",
      "4  2024-10-09  959     664120      about  386.387097\n"
     ]
    }
   ],
   "source": [
    "#Eksik verileri ortalamayla doldurma\n",
    "df[\"POW\"]=df[\"POW\"].fillna(df[\"POW\"].mean())\n",
    "print(df.head())"
   ]
  },
  {
   "cell_type": "code",
   "execution_count": 8,
   "id": "e47cc385",
   "metadata": {},
   "outputs": [
    {
     "name": "stdout",
     "output_type": "stream",
     "text": [
      "             day      personnel         POW\n",
      "count  962.00000     962.000000  962.000000\n",
      "mean   482.50000  251879.069647  386.387097\n",
      "std    277.84978  192688.100207   33.115550\n",
      "min      2.00000    2800.000000    0.000000\n",
      "25%    242.25000   67587.500000  386.387097\n",
      "50%    482.50000  221730.000000  386.387097\n",
      "75%    722.75000  399997.500000  386.387097\n",
      "max    963.00000  668930.000000  496.000000\n"
     ]
    }
   ],
   "source": [
    "#İstatiksel özet çıkaralim\n",
    "print(df.describe())"
   ]
  },
  {
   "cell_type": "markdown",
   "id": "dd7a7488",
   "metadata": {},
   "source": [
    "Yukarıdaki istatiksel özete baktığımız zaman totalde her alanda 962 değerimiz var.Mean bize sayısal değerlerin ortalamasını verir örneğin personel kaybı ortalama 251 göstermektedir.Std sütunu bize verilerin ortalamaya göre dağılımını verir 192 ile personele bakılınca dağılımda ciddi farklılıklar söz konusu.\n",
    "\n",
    "Personel Bazlı Kayıp Özeti:\n",
    "Ortalama 251,789 göstermektedir ancak standart sapmamız bize günlük ölümlerde ciddi bir dalgalanma olduğunu göstermektedir kayıplar günden güne çok çeşitlilik gösteriyor olup bazı günlerde ciddi kayıp olduğunu bizlere anlatmaktadır.\n",
    "\n",
    "\"pow\" Savaş Esirleri Özeti:\n",
    "Kayıp değerlerimizi ortalama bir değerle doldurup veride basit bir manipülasyon yaptık.Ortalama esir kaybı 386 göstermektedir Standart sapma ise 33 gösteriyor olup esir kayıplarında da dalgalanma yüksektedir.Minimum 0 Maksimum 496 bu bazı günlerde esir olmadığını bize özetle gösterir."
   ]
  },
  {
   "cell_type": "code",
   "execution_count": 10,
   "id": "26074e1a",
   "metadata": {},
   "outputs": [
    {
     "data": {
      "text/html": [
       "<div>\n",
       "<style scoped>\n",
       "    .dataframe tbody tr th:only-of-type {\n",
       "        vertical-align: middle;\n",
       "    }\n",
       "\n",
       "    .dataframe tbody tr th {\n",
       "        vertical-align: top;\n",
       "    }\n",
       "\n",
       "    .dataframe thead th {\n",
       "        text-align: right;\n",
       "    }\n",
       "</style>\n",
       "<table border=\"1\" class=\"dataframe\">\n",
       "  <thead>\n",
       "    <tr style=\"text-align: right;\">\n",
       "      <th></th>\n",
       "      <th>date</th>\n",
       "      <th>personnel</th>\n",
       "    </tr>\n",
       "  </thead>\n",
       "  <tbody>\n",
       "    <tr>\n",
       "      <th>0</th>\n",
       "      <td>2024-10-13</td>\n",
       "      <td>668930</td>\n",
       "    </tr>\n",
       "    <tr>\n",
       "      <th>1</th>\n",
       "      <td>2024-10-12</td>\n",
       "      <td>667630</td>\n",
       "    </tr>\n",
       "    <tr>\n",
       "      <th>2</th>\n",
       "      <td>2024-10-11</td>\n",
       "      <td>666340</td>\n",
       "    </tr>\n",
       "    <tr>\n",
       "      <th>3</th>\n",
       "      <td>2024-10-10</td>\n",
       "      <td>665200</td>\n",
       "    </tr>\n",
       "    <tr>\n",
       "      <th>4</th>\n",
       "      <td>2024-10-09</td>\n",
       "      <td>664120</td>\n",
       "    </tr>\n",
       "  </tbody>\n",
       "</table>\n",
       "</div>"
      ],
      "text/plain": [
       "         date  personnel\n",
       "0  2024-10-13     668930\n",
       "1  2024-10-12     667630\n",
       "2  2024-10-11     666340\n",
       "3  2024-10-10     665200\n",
       "4  2024-10-09     664120"
      ]
     },
     "execution_count": 10,
     "metadata": {},
     "output_type": "execute_result"
    }
   ],
   "source": [
    "#Belirli sütunları alalım örnğin.\n",
    "df[['date','personnel']].head()"
   ]
  },
  {
   "cell_type": "code",
   "execution_count": 12,
   "id": "be77c61a",
   "metadata": {},
   "outputs": [
    {
     "name": "stdout",
     "output_type": "stream",
     "text": [
      "           date  day  personnel personnel*         POW\n",
      "961  2022-02-25    2       2800      about    0.000000\n",
      "960  2022-02-26    3       4300      about    0.000000\n",
      "959  2022-02-27    4       4500      about    0.000000\n",
      "958  2022-02-28    5       5300      about    0.000000\n",
      "957  2022-03-01    6       5710      about  200.000000\n",
      "..          ...  ...        ...        ...         ...\n",
      "4    2024-10-09  959     664120      about  386.387097\n",
      "3    2024-10-10  960     665200      about  386.387097\n",
      "2    2024-10-11  961     666340      about  386.387097\n",
      "1    2024-10-12  962     667630      about  386.387097\n",
      "0    2024-10-13  963     668930      about  386.387097\n",
      "\n",
      "[962 rows x 5 columns]\n"
     ]
    }
   ],
   "source": [
    "df_sorted=df.sort_values(by=\"date\")\n",
    "print(df_sorted)"
   ]
  },
  {
   "cell_type": "code",
   "execution_count": 19,
   "id": "5b28efac",
   "metadata": {},
   "outputs": [
    {
     "name": "stdout",
     "output_type": "stream",
     "text": [
      "           date  day  personnel personnel*         POW\n",
      "0    2024-10-13  963     668930      about  386.387097\n",
      "1    2024-10-12  962     667630      about  386.387097\n",
      "2    2024-10-11  961     666340      about  386.387097\n",
      "3    2024-10-10  960     665200      about  386.387097\n",
      "4    2024-10-09  959     664120      about  386.387097\n",
      "..          ...  ...        ...        ...         ...\n",
      "957  2022-03-01    6       5710      about  200.000000\n",
      "958  2022-02-28    5       5300      about    0.000000\n",
      "959  2022-02-27    4       4500      about    0.000000\n",
      "960  2022-02-26    3       4300      about    0.000000\n",
      "961  2022-02-25    2       2800      about    0.000000\n",
      "\n",
      "[962 rows x 5 columns]\n"
     ]
    }
   ],
   "source": [
    "#Hangi tarihte en çok personel kaybı var bakalım\n",
    "df_personel=df.sort_values(by='personnel',ascending=False)\n",
    "print(df_personel)"
   ]
  },
  {
   "cell_type": "code",
   "execution_count": 20,
   "id": "b73c69ee",
   "metadata": {},
   "outputs": [
    {
     "name": "stdout",
     "output_type": "stream",
     "text": [
      "           date personnel*\n",
      "0    2024-10-13           \n",
      "1    2024-10-12           \n",
      "2    2024-10-11           \n",
      "3    2024-10-10           \n",
      "4    2024-10-09           \n",
      "..          ...        ...\n",
      "957  2022-03-01           \n",
      "958  2022-02-28           \n",
      "959  2022-02-27           \n",
      "960  2022-02-26           \n",
      "961  2022-02-25           \n",
      "\n",
      "[962 rows x 2 columns]\n"
     ]
    }
   ],
   "source": [
    "df['personnel*']=df[\"personnel*\"].replace('about','',regex=True)\n",
    "\n",
    "#Temizlenmiş verilerin ilk 5 satırına bakalım\n",
    "print(df[['date','personnel*']])"
   ]
  },
  {
   "cell_type": "code",
   "execution_count": 22,
   "id": "153111ee",
   "metadata": {},
   "outputs": [
    {
     "name": "stdout",
     "output_type": "stream",
     "text": [
      "         date  personnel\n",
      "0  2024-10-13     668930\n",
      "1  2024-10-12     667630\n",
      "2  2024-10-11     666340\n",
      "3  2024-10-10     665200\n",
      "4  2024-10-09     664120\n",
      "5  2024-10-08     662970\n",
      "6  2024-10-07     661630\n",
      "7  2024-10-06     660470\n",
      "8  2024-10-05     659220\n",
      "9  2024-10-04     657940\n"
     ]
    }
   ],
   "source": [
    "# Personel kayıplarına göre sıralama (büyükten küçüğe doğru)\n",
    "df_personnel_sorted = df.sort_values(by='personnel', ascending=False)\n",
    "\n",
    "# İlk 10 satırı görelim\n",
    "print(df_personnel_sorted[['date', 'personnel']].head(10))\n"
   ]
  },
  {
   "cell_type": "markdown",
   "id": "7c6ba8be",
   "metadata": {},
   "source": [
    "Kayıp Rus Ekipmanlarını İnceleyelim"
   ]
  },
  {
   "cell_type": "code",
   "execution_count": 8,
   "id": "b1f39365",
   "metadata": {},
   "outputs": [
    {
     "name": "stdout",
     "output_type": "stream",
     "text": [
      "         date  day  aircraft  helicopter  tank    APC  field artillery   MRL  \\\n",
      "0  2024-10-13  963       369         329  8971  17876            19410  1231   \n",
      "1  2024-10-12  962       369         329  8962  17827            19381  1230   \n",
      "2  2024-10-11  961       369         329  8953  17800            19322  1229   \n",
      "3  2024-10-10  960       369         328  8945  17765            19263  1225   \n",
      "4  2024-10-09  959       369         328  8944  17751            19222  1223   \n",
      "\n",
      "   military auto  fuel tank  drone  naval ship  anti-aircraft warfare  \\\n",
      "0            NaN        NaN  16992          28                    978   \n",
      "1            NaN        NaN  16947          28                    976   \n",
      "2            NaN        NaN  16837          28                    976   \n",
      "3            NaN        NaN  16767          28                    976   \n",
      "4            NaN        NaN  16718          28                    973   \n",
      "\n",
      "   special equipment  mobile SRBM system greatest losses direction  \\\n",
      "0             3435.0                 NaN                       NaN   \n",
      "1             3434.0                 NaN                       NaN   \n",
      "2             3396.0                 NaN                       NaN   \n",
      "3             3386.0                 NaN                       NaN   \n",
      "4             3385.0                 NaN                       NaN   \n",
      "\n",
      "   vehicles and fuel tanks  cruise missiles  submarines  \n",
      "0                  26584.0           2619.0         1.0  \n",
      "1                  26513.0           2619.0         1.0  \n",
      "2                  26398.0           2619.0         1.0  \n",
      "3                  26314.0           2619.0         1.0  \n",
      "4                  26240.0           2618.0         1.0  \n"
     ]
    }
   ],
   "source": [
    "df_eqp=pd.read_csv(\"rus-ekipman.csv\")\n",
    "print(df_eqp.head())"
   ]
  },
  {
   "cell_type": "code",
   "execution_count": 30,
   "id": "1df7157a",
   "metadata": {},
   "outputs": [
    {
     "data": {
      "text/html": [
       "<div>\n",
       "<style scoped>\n",
       "    .dataframe tbody tr th:only-of-type {\n",
       "        vertical-align: middle;\n",
       "    }\n",
       "\n",
       "    .dataframe tbody tr th {\n",
       "        vertical-align: top;\n",
       "    }\n",
       "\n",
       "    .dataframe thead th {\n",
       "        text-align: right;\n",
       "    }\n",
       "</style>\n",
       "<table border=\"1\" class=\"dataframe\">\n",
       "  <thead>\n",
       "    <tr style=\"text-align: right;\">\n",
       "      <th></th>\n",
       "      <th>date</th>\n",
       "      <th>day</th>\n",
       "      <th>personnel</th>\n",
       "      <th>personnel*</th>\n",
       "      <th>POW</th>\n",
       "    </tr>\n",
       "  </thead>\n",
       "  <tbody>\n",
       "    <tr>\n",
       "      <th>957</th>\n",
       "      <td>2022-03-01</td>\n",
       "      <td>6</td>\n",
       "      <td>5710</td>\n",
       "      <td></td>\n",
       "      <td>200.0</td>\n",
       "    </tr>\n",
       "    <tr>\n",
       "      <th>958</th>\n",
       "      <td>2022-02-28</td>\n",
       "      <td>5</td>\n",
       "      <td>5300</td>\n",
       "      <td></td>\n",
       "      <td>0.0</td>\n",
       "    </tr>\n",
       "    <tr>\n",
       "      <th>959</th>\n",
       "      <td>2022-02-27</td>\n",
       "      <td>4</td>\n",
       "      <td>4500</td>\n",
       "      <td></td>\n",
       "      <td>0.0</td>\n",
       "    </tr>\n",
       "    <tr>\n",
       "      <th>960</th>\n",
       "      <td>2022-02-26</td>\n",
       "      <td>3</td>\n",
       "      <td>4300</td>\n",
       "      <td></td>\n",
       "      <td>0.0</td>\n",
       "    </tr>\n",
       "    <tr>\n",
       "      <th>961</th>\n",
       "      <td>2022-02-25</td>\n",
       "      <td>2</td>\n",
       "      <td>2800</td>\n",
       "      <td></td>\n",
       "      <td>0.0</td>\n",
       "    </tr>\n",
       "  </tbody>\n",
       "</table>\n",
       "</div>"
      ],
      "text/plain": [
       "           date  day  personnel personnel*    POW\n",
       "957  2022-03-01    6       5710             200.0\n",
       "958  2022-02-28    5       5300               0.0\n",
       "959  2022-02-27    4       4500               0.0\n",
       "960  2022-02-26    3       4300               0.0\n",
       "961  2022-02-25    2       2800               0.0"
      ]
     },
     "execution_count": 30,
     "metadata": {},
     "output_type": "execute_result"
    }
   ],
   "source": [
    "#Son 5 satıra bakalım\n",
    "df.tail()"
   ]
  },
  {
   "cell_type": "code",
   "execution_count": 31,
   "id": "1650948a",
   "metadata": {},
   "outputs": [
    {
     "data": {
      "text/plain": [
       "date                           0\n",
       "day                            0\n",
       "aircraft                       0\n",
       "helicopter                     0\n",
       "tank                           0\n",
       "APC                            0\n",
       "field artillery                0\n",
       "MRL                            0\n",
       "military auto                897\n",
       "fuel tank                    897\n",
       "drone                          0\n",
       "naval ship                     0\n",
       "anti-aircraft warfare          0\n",
       "special equipment             19\n",
       "mobile SRBM system           926\n",
       "greatest losses direction    759\n",
       "vehicles and fuel tanks       65\n",
       "cruise missiles               65\n",
       "submarines                   566\n",
       "dtype: int64"
      ]
     },
     "execution_count": 31,
     "metadata": {},
     "output_type": "execute_result"
    }
   ],
   "source": [
    "#Nan Degerlere bakıp ortalamayayakın değer verelim\n",
    "df_eqp.isnull().sum()"
   ]
  },
  {
   "cell_type": "code",
   "execution_count": 87,
   "id": "ae179299",
   "metadata": {},
   "outputs": [
    {
     "ename": "KeyError",
     "evalue": "'military auto'",
     "output_type": "error",
     "traceback": [
      "\u001b[1;31m---------------------------------------------------------------------------\u001b[0m",
      "\u001b[1;31mKeyError\u001b[0m                                  Traceback (most recent call last)",
      "Cell \u001b[1;32mIn[87], line 2\u001b[0m\n\u001b[0;32m      1\u001b[0m \u001b[38;5;66;03m#Ortalama deger ataması\u001b[39;00m\n\u001b[1;32m----> 2\u001b[0m df_eqp[\u001b[38;5;124m'\u001b[39m\u001b[38;5;124mmilitary auto\u001b[39m\u001b[38;5;124m'\u001b[39m]\u001b[38;5;241m=\u001b[39mdf_eqp[\u001b[38;5;124m\"\u001b[39m\u001b[38;5;124mmilitary auto\u001b[39m\u001b[38;5;124m\"\u001b[39m]\u001b[38;5;241m.\u001b[39mfillna(df_eqp[\u001b[38;5;124m\"\u001b[39m\u001b[38;5;124mmilitary auto\u001b[39m\u001b[38;5;124m\"\u001b[39m]\u001b[38;5;241m.\u001b[39mmean())\n\u001b[0;32m      5\u001b[0m \u001b[38;5;66;03m#Fuel Tank için yapalım\u001b[39;00m\n\u001b[0;32m      6\u001b[0m df_eqp[\u001b[38;5;124m\"\u001b[39m\u001b[38;5;124mfuel tank\u001b[39m\u001b[38;5;124m\"\u001b[39m]\u001b[38;5;241m=\u001b[39mdf_eqp[\u001b[38;5;124m\"\u001b[39m\u001b[38;5;124mfuel tank\u001b[39m\u001b[38;5;124m\"\u001b[39m]\u001b[38;5;241m.\u001b[39mfillna(df_eqp[\u001b[38;5;124m\"\u001b[39m\u001b[38;5;124mmilitary auto\u001b[39m\u001b[38;5;124m\"\u001b[39m]\u001b[38;5;241m.\u001b[39mmean())\n",
      "File \u001b[1;32mC:\\ProgramData\\anaconda3\\Lib\\site-packages\\pandas\\core\\series.py:981\u001b[0m, in \u001b[0;36mSeries.__getitem__\u001b[1;34m(self, key)\u001b[0m\n\u001b[0;32m    978\u001b[0m     \u001b[38;5;28;01mreturn\u001b[39;00m \u001b[38;5;28mself\u001b[39m\u001b[38;5;241m.\u001b[39m_values[key]\n\u001b[0;32m    980\u001b[0m \u001b[38;5;28;01melif\u001b[39;00m key_is_scalar:\n\u001b[1;32m--> 981\u001b[0m     \u001b[38;5;28;01mreturn\u001b[39;00m \u001b[38;5;28mself\u001b[39m\u001b[38;5;241m.\u001b[39m_get_value(key)\n\u001b[0;32m    983\u001b[0m \u001b[38;5;28;01mif\u001b[39;00m is_hashable(key):\n\u001b[0;32m    984\u001b[0m     \u001b[38;5;66;03m# Otherwise index.get_value will raise InvalidIndexError\u001b[39;00m\n\u001b[0;32m    985\u001b[0m     \u001b[38;5;28;01mtry\u001b[39;00m:\n\u001b[0;32m    986\u001b[0m         \u001b[38;5;66;03m# For labels that don't resolve as scalars like tuples and frozensets\u001b[39;00m\n",
      "File \u001b[1;32mC:\\ProgramData\\anaconda3\\Lib\\site-packages\\pandas\\core\\series.py:1089\u001b[0m, in \u001b[0;36mSeries._get_value\u001b[1;34m(self, label, takeable)\u001b[0m\n\u001b[0;32m   1086\u001b[0m     \u001b[38;5;28;01mreturn\u001b[39;00m \u001b[38;5;28mself\u001b[39m\u001b[38;5;241m.\u001b[39m_values[label]\n\u001b[0;32m   1088\u001b[0m \u001b[38;5;66;03m# Similar to Index.get_value, but we do not fall back to positional\u001b[39;00m\n\u001b[1;32m-> 1089\u001b[0m loc \u001b[38;5;241m=\u001b[39m \u001b[38;5;28mself\u001b[39m\u001b[38;5;241m.\u001b[39mindex\u001b[38;5;241m.\u001b[39mget_loc(label)\n\u001b[0;32m   1090\u001b[0m \u001b[38;5;28;01mreturn\u001b[39;00m \u001b[38;5;28mself\u001b[39m\u001b[38;5;241m.\u001b[39mindex\u001b[38;5;241m.\u001b[39m_get_values_for_loc(\u001b[38;5;28mself\u001b[39m, loc, label)\n",
      "File \u001b[1;32mC:\\ProgramData\\anaconda3\\Lib\\site-packages\\pandas\\core\\indexes\\range.py:395\u001b[0m, in \u001b[0;36mRangeIndex.get_loc\u001b[1;34m(self, key, method, tolerance)\u001b[0m\n\u001b[0;32m    393\u001b[0m             \u001b[38;5;28;01mraise\u001b[39;00m \u001b[38;5;167;01mKeyError\u001b[39;00m(key) \u001b[38;5;28;01mfrom\u001b[39;00m \u001b[38;5;21;01merr\u001b[39;00m\n\u001b[0;32m    394\u001b[0m     \u001b[38;5;28mself\u001b[39m\u001b[38;5;241m.\u001b[39m_check_indexing_error(key)\n\u001b[1;32m--> 395\u001b[0m     \u001b[38;5;28;01mraise\u001b[39;00m \u001b[38;5;167;01mKeyError\u001b[39;00m(key)\n\u001b[0;32m    396\u001b[0m \u001b[38;5;28;01mreturn\u001b[39;00m \u001b[38;5;28msuper\u001b[39m()\u001b[38;5;241m.\u001b[39mget_loc(key, method\u001b[38;5;241m=\u001b[39mmethod, tolerance\u001b[38;5;241m=\u001b[39mtolerance)\n",
      "\u001b[1;31mKeyError\u001b[0m: 'military auto'"
     ]
    }
   ],
   "source": [
    "#Ortalama deger ataması\n",
    "df_eqp['military auto']=df_eqp[\"military auto\"].fillna(df_eqp[\"military auto\"].mean())\n",
    "\n",
    "\n",
    "#Fuel Tank için yapalım\n",
    "df_eqp[\"fuel tank\"]=df_eqp[\"fuel tank\"].fillna(df_eqp[\"military auto\"].mean())\n",
    "\n",
    "\n",
    "#Mobile SRBM icin yapalım(Kısa menzilli balistik füze)\n",
    "df_eqp['mobile SRBM system'] = df_eqp['mobile SRBM system'].fillna(df_eqp['mobile SRBM system'].mean())\n",
    "\n",
    "#Submarines(Deniz Altı Kayıpları)\n",
    "df_eqp['submarines']=df_eqp['submarines'].fillna(df_eqp['submarines'].mean())\n",
    "\n",
    "#Cruise'ler için yapalım\n",
    "df_eqp['cruise missiles']=df_eqp['cruise missiles'].fillna(df_eqp['cruise missiles'].mean())\n",
    "\n",
    "\n",
    "#Vehicles and Fuel Tanks\n",
    "df_eqp['vehicles and fuel tanks']=df_eqp['vehicles and fuel tanks'].fillna(df_eqp['vehicles and fuel tanks'].mean())\n",
    "\n",
    "\n",
    "\n",
    "\n",
    "\n",
    "\n",
    "\n",
    "\n",
    "\n",
    "\n",
    "print(df_eqp.head())\n"
   ]
  },
  {
   "cell_type": "code",
   "execution_count": 59,
   "id": "34f612a5",
   "metadata": {},
   "outputs": [
    {
     "name": "stdout",
     "output_type": "stream",
     "text": [
      "         date  day  aircraft  helicopter  tank    APC  field artillery   MRL  \\\n",
      "0  2024-10-13  963       369         329  8971  17876            19410  1231   \n",
      "1  2024-10-12  962       369         329  8962  17827            19381  1230   \n",
      "2  2024-10-11  961       369         329  8953  17800            19322  1229   \n",
      "3  2024-10-10  960       369         328  8945  17765            19263  1225   \n",
      "4  2024-10-09  959       369         328  8944  17751            19222  1223   \n",
      "\n",
      "   military auto    fuel tank  drone  naval ship  anti-aircraft warfare  \\\n",
      "0    1047.507692  1047.507692  16992          28                    978   \n",
      "1    1047.507692  1047.507692  16947          28                    976   \n",
      "2    1047.507692  1047.507692  16837          28                    976   \n",
      "3    1047.507692  1047.507692  16767          28                    976   \n",
      "4    1047.507692  1047.507692  16718          28                    973   \n",
      "\n",
      "   special equipment  mobile SRBM system  vehicles and fuel tanks  \\\n",
      "0             3435.0            3.944444                  26584.0   \n",
      "1             3434.0            3.944444                  26513.0   \n",
      "2             3396.0            3.944444                  26398.0   \n",
      "3             3386.0            3.944444                  26314.0   \n",
      "4             3385.0            3.944444                  26240.0   \n",
      "\n",
      "   cruise missiles  submarines  \n",
      "0           2619.0         1.0  \n",
      "1           2619.0         1.0  \n",
      "2           2619.0         1.0  \n",
      "3           2619.0         1.0  \n",
      "4           2618.0         1.0  \n"
     ]
    }
   ],
   "source": [
    "# Doğru sütun adıyla silme işlemi\n",
    "df_eqp = df_eqp.drop(columns=['greatest losses direction'], errors='ignore')\n",
    "\n",
    "# Silme işleminden sonra veri setinin ilk birkaç satırını kontrol edelim\n",
    "print(df_eqp.head())\n"
   ]
  },
  {
   "cell_type": "code",
   "execution_count": 61,
   "id": "de905503",
   "metadata": {},
   "outputs": [
    {
     "data": {
      "text/html": [
       "<div>\n",
       "<style scoped>\n",
       "    .dataframe tbody tr th:only-of-type {\n",
       "        vertical-align: middle;\n",
       "    }\n",
       "\n",
       "    .dataframe tbody tr th {\n",
       "        vertical-align: top;\n",
       "    }\n",
       "\n",
       "    .dataframe thead th {\n",
       "        text-align: right;\n",
       "    }\n",
       "</style>\n",
       "<table border=\"1\" class=\"dataframe\">\n",
       "  <thead>\n",
       "    <tr style=\"text-align: right;\">\n",
       "      <th></th>\n",
       "      <th>day</th>\n",
       "      <th>aircraft</th>\n",
       "      <th>helicopter</th>\n",
       "      <th>tank</th>\n",
       "      <th>APC</th>\n",
       "      <th>field artillery</th>\n",
       "      <th>MRL</th>\n",
       "      <th>military auto</th>\n",
       "      <th>fuel tank</th>\n",
       "      <th>drone</th>\n",
       "      <th>naval ship</th>\n",
       "      <th>anti-aircraft warfare</th>\n",
       "      <th>special equipment</th>\n",
       "      <th>mobile SRBM system</th>\n",
       "      <th>vehicles and fuel tanks</th>\n",
       "      <th>cruise missiles</th>\n",
       "      <th>submarines</th>\n",
       "    </tr>\n",
       "  </thead>\n",
       "  <tbody>\n",
       "    <tr>\n",
       "      <th>count</th>\n",
       "      <td>962.00000</td>\n",
       "      <td>962.000000</td>\n",
       "      <td>962.000000</td>\n",
       "      <td>962.000000</td>\n",
       "      <td>962.000000</td>\n",
       "      <td>962.000000</td>\n",
       "      <td>962.000000</td>\n",
       "      <td>962.000000</td>\n",
       "      <td>962.000000</td>\n",
       "      <td>962.000000</td>\n",
       "      <td>962.00000</td>\n",
       "      <td>962.000000</td>\n",
       "      <td>943.000000</td>\n",
       "      <td>962.000000</td>\n",
       "      <td>962.000000</td>\n",
       "      <td>962.000000</td>\n",
       "      <td>962.0</td>\n",
       "    </tr>\n",
       "    <tr>\n",
       "      <th>mean</th>\n",
       "      <td>482.50000</td>\n",
       "      <td>292.649688</td>\n",
       "      <td>274.627859</td>\n",
       "      <td>4421.414761</td>\n",
       "      <td>8664.935551</td>\n",
       "      <td>6053.249480</td>\n",
       "      <td>654.489605</td>\n",
       "      <td>1047.507692</td>\n",
       "      <td>981.414137</td>\n",
       "      <td>4867.667360</td>\n",
       "      <td>19.16736</td>\n",
       "      <td>436.505198</td>\n",
       "      <td>944.917285</td>\n",
       "      <td>3.944444</td>\n",
       "      <td>9611.467113</td>\n",
       "      <td>1269.424749</td>\n",
       "      <td>1.0</td>\n",
       "    </tr>\n",
       "    <tr>\n",
       "      <th>std</th>\n",
       "      <td>277.84978</td>\n",
       "      <td>66.872072</td>\n",
       "      <td>66.172030</td>\n",
       "      <td>2434.948269</td>\n",
       "      <td>4505.240943</td>\n",
       "      <td>5453.900231</td>\n",
       "      <td>346.224095</td>\n",
       "      <td>120.299886</td>\n",
       "      <td>245.662090</td>\n",
       "      <td>4439.204905</td>\n",
       "      <td>6.03666</td>\n",
       "      <td>289.795415</td>\n",
       "      <td>955.045920</td>\n",
       "      <td>0.063614</td>\n",
       "      <td>6385.695024</td>\n",
       "      <td>760.163848</td>\n",
       "      <td>0.0</td>\n",
       "    </tr>\n",
       "    <tr>\n",
       "      <th>min</th>\n",
       "      <td>2.00000</td>\n",
       "      <td>10.000000</td>\n",
       "      <td>7.000000</td>\n",
       "      <td>80.000000</td>\n",
       "      <td>516.000000</td>\n",
       "      <td>49.000000</td>\n",
       "      <td>4.000000</td>\n",
       "      <td>100.000000</td>\n",
       "      <td>60.000000</td>\n",
       "      <td>0.000000</td>\n",
       "      <td>2.00000</td>\n",
       "      <td>0.000000</td>\n",
       "      <td>10.000000</td>\n",
       "      <td>2.000000</td>\n",
       "      <td>1796.000000</td>\n",
       "      <td>84.000000</td>\n",
       "      <td>1.0</td>\n",
       "    </tr>\n",
       "    <tr>\n",
       "      <th>25%</th>\n",
       "      <td>242.25000</td>\n",
       "      <td>270.000000</td>\n",
       "      <td>245.000000</td>\n",
       "      <td>2585.500000</td>\n",
       "      <td>5286.750000</td>\n",
       "      <td>1668.500000</td>\n",
       "      <td>374.250000</td>\n",
       "      <td>1047.507692</td>\n",
       "      <td>1047.507692</td>\n",
       "      <td>1363.250000</td>\n",
       "      <td>16.00000</td>\n",
       "      <td>189.000000</td>\n",
       "      <td>156.000000</td>\n",
       "      <td>3.944444</td>\n",
       "      <td>4654.000000</td>\n",
       "      <td>653.000000</td>\n",
       "      <td>1.0</td>\n",
       "    </tr>\n",
       "    <tr>\n",
       "      <th>50%</th>\n",
       "      <td>482.50000</td>\n",
       "      <td>314.000000</td>\n",
       "      <td>306.000000</td>\n",
       "      <td>4001.500000</td>\n",
       "      <td>7760.500000</td>\n",
       "      <td>3904.000000</td>\n",
       "      <td>614.500000</td>\n",
       "      <td>1047.507692</td>\n",
       "      <td>1047.507692</td>\n",
       "      <td>3410.500000</td>\n",
       "      <td>18.00000</td>\n",
       "      <td>373.500000</td>\n",
       "      <td>569.000000</td>\n",
       "      <td>3.944444</td>\n",
       "      <td>7781.500000</td>\n",
       "      <td>1269.424749</td>\n",
       "      <td>1.0</td>\n",
       "    </tr>\n",
       "    <tr>\n",
       "      <th>75%</th>\n",
       "      <td>722.75000</td>\n",
       "      <td>332.000000</td>\n",
       "      <td>325.000000</td>\n",
       "      <td>6459.250000</td>\n",
       "      <td>12119.250000</td>\n",
       "      <td>9635.750000</td>\n",
       "      <td>984.000000</td>\n",
       "      <td>1047.507692</td>\n",
       "      <td>1047.507692</td>\n",
       "      <td>7407.000000</td>\n",
       "      <td>25.00000</td>\n",
       "      <td>671.000000</td>\n",
       "      <td>1554.500000</td>\n",
       "      <td>3.944444</td>\n",
       "      <td>12709.750000</td>\n",
       "      <td>1891.750000</td>\n",
       "      <td>1.0</td>\n",
       "    </tr>\n",
       "    <tr>\n",
       "      <th>max</th>\n",
       "      <td>963.00000</td>\n",
       "      <td>369.000000</td>\n",
       "      <td>329.000000</td>\n",
       "      <td>8971.000000</td>\n",
       "      <td>17876.000000</td>\n",
       "      <td>19410.000000</td>\n",
       "      <td>1231.000000</td>\n",
       "      <td>1701.000000</td>\n",
       "      <td>1047.507692</td>\n",
       "      <td>16992.000000</td>\n",
       "      <td>28.00000</td>\n",
       "      <td>978.000000</td>\n",
       "      <td>3435.000000</td>\n",
       "      <td>4.000000</td>\n",
       "      <td>26584.000000</td>\n",
       "      <td>2619.000000</td>\n",
       "      <td>1.0</td>\n",
       "    </tr>\n",
       "  </tbody>\n",
       "</table>\n",
       "</div>"
      ],
      "text/plain": [
       "             day    aircraft  helicopter         tank           APC  \\\n",
       "count  962.00000  962.000000  962.000000   962.000000    962.000000   \n",
       "mean   482.50000  292.649688  274.627859  4421.414761   8664.935551   \n",
       "std    277.84978   66.872072   66.172030  2434.948269   4505.240943   \n",
       "min      2.00000   10.000000    7.000000    80.000000    516.000000   \n",
       "25%    242.25000  270.000000  245.000000  2585.500000   5286.750000   \n",
       "50%    482.50000  314.000000  306.000000  4001.500000   7760.500000   \n",
       "75%    722.75000  332.000000  325.000000  6459.250000  12119.250000   \n",
       "max    963.00000  369.000000  329.000000  8971.000000  17876.000000   \n",
       "\n",
       "       field artillery          MRL  military auto    fuel tank         drone  \\\n",
       "count       962.000000   962.000000     962.000000   962.000000    962.000000   \n",
       "mean       6053.249480   654.489605    1047.507692   981.414137   4867.667360   \n",
       "std        5453.900231   346.224095     120.299886   245.662090   4439.204905   \n",
       "min          49.000000     4.000000     100.000000    60.000000      0.000000   \n",
       "25%        1668.500000   374.250000    1047.507692  1047.507692   1363.250000   \n",
       "50%        3904.000000   614.500000    1047.507692  1047.507692   3410.500000   \n",
       "75%        9635.750000   984.000000    1047.507692  1047.507692   7407.000000   \n",
       "max       19410.000000  1231.000000    1701.000000  1047.507692  16992.000000   \n",
       "\n",
       "       naval ship  anti-aircraft warfare  special equipment  \\\n",
       "count   962.00000             962.000000         943.000000   \n",
       "mean     19.16736             436.505198         944.917285   \n",
       "std       6.03666             289.795415         955.045920   \n",
       "min       2.00000               0.000000          10.000000   \n",
       "25%      16.00000             189.000000         156.000000   \n",
       "50%      18.00000             373.500000         569.000000   \n",
       "75%      25.00000             671.000000        1554.500000   \n",
       "max      28.00000             978.000000        3435.000000   \n",
       "\n",
       "       mobile SRBM system  vehicles and fuel tanks  cruise missiles  \\\n",
       "count          962.000000               962.000000       962.000000   \n",
       "mean             3.944444              9611.467113      1269.424749   \n",
       "std              0.063614              6385.695024       760.163848   \n",
       "min              2.000000              1796.000000        84.000000   \n",
       "25%              3.944444              4654.000000       653.000000   \n",
       "50%              3.944444              7781.500000      1269.424749   \n",
       "75%              3.944444             12709.750000      1891.750000   \n",
       "max              4.000000             26584.000000      2619.000000   \n",
       "\n",
       "       submarines  \n",
       "count       962.0  \n",
       "mean          1.0  \n",
       "std           0.0  \n",
       "min           1.0  \n",
       "25%           1.0  \n",
       "50%           1.0  \n",
       "75%           1.0  \n",
       "max           1.0  "
      ]
     },
     "execution_count": 61,
     "metadata": {},
     "output_type": "execute_result"
    }
   ],
   "source": [
    "#İstatiksel Özetine bakalım\n",
    "df_eqp.describe()"
   ]
  },
  {
   "cell_type": "markdown",
   "id": "ccd60284",
   "metadata": {},
   "source": [
    "Hata sonucu tüm dosya tipini değiştirdiğim için tekrar okuttum."
   ]
  },
  {
   "cell_type": "code",
   "execution_count": 7,
   "id": "b66e2f7f",
   "metadata": {},
   "outputs": [
    {
     "name": "stdout",
     "output_type": "stream",
     "text": [
      "         date  day  aircraft  helicopter  tank    APC  field artillery   MRL  \\\n",
      "0  2024-10-13  963       369         329  8971  17876            19410  1231   \n",
      "1  2024-10-12  962       369         329  8962  17827            19381  1230   \n",
      "2  2024-10-11  961       369         329  8953  17800            19322  1229   \n",
      "3  2024-10-10  960       369         328  8945  17765            19263  1225   \n",
      "4  2024-10-09  959       369         328  8944  17751            19222  1223   \n",
      "\n",
      "   military auto  fuel tank  drone  naval ship  anti-aircraft warfare  \\\n",
      "0            NaN        NaN  16992          28                    978   \n",
      "1            NaN        NaN  16947          28                    976   \n",
      "2            NaN        NaN  16837          28                    976   \n",
      "3            NaN        NaN  16767          28                    976   \n",
      "4            NaN        NaN  16718          28                    973   \n",
      "\n",
      "   special equipment  mobile SRBM system greatest losses direction  \\\n",
      "0             3435.0                 NaN                       NaN   \n",
      "1             3434.0                 NaN                       NaN   \n",
      "2             3396.0                 NaN                       NaN   \n",
      "3             3386.0                 NaN                       NaN   \n",
      "4             3385.0                 NaN                       NaN   \n",
      "\n",
      "   vehicles and fuel tanks  cruise missiles  submarines  \n",
      "0                  26584.0           2619.0         1.0  \n",
      "1                  26513.0           2619.0         1.0  \n",
      "2                  26398.0           2619.0         1.0  \n",
      "3                  26314.0           2619.0         1.0  \n",
      "4                  26240.0           2618.0         1.0  \n"
     ]
    }
   ],
   "source": [
    "df_eq=pd.read_csv('rus-ekipman.csv')\n",
    "print(df_eq.head())\n"
   ]
  },
  {
   "cell_type": "code",
   "execution_count": 86,
   "id": "338ec886",
   "metadata": {},
   "outputs": [
    {
     "name": "stdout",
     "output_type": "stream",
     "text": [
      "          date  day  aircraft  helicopter  tank  APC  field artillery  MRL  \\\n",
      "961 2022-02-25    2        10           7    80  516               49    4   \n",
      "960 2022-02-26    3        27          26   146  706               49    4   \n",
      "959 2022-02-27    4        27          26   150  706               50    4   \n",
      "958 2022-02-28    5        29          29   150  816               74   21   \n",
      "957 2022-03-01    6        29          29   198  846               77   24   \n",
      "956 2022-03-02    7        30          31   211  862               85   40   \n",
      "955 2022-03-03    8        30          31   217  900               90   42   \n",
      "954 2022-03-04    9        33          37   251  939              105   50   \n",
      "953 2022-03-05   10        39          40   269  945              105   50   \n",
      "952 2022-03-06   11        44          48   285  985              109   50   \n",
      "\n",
      "     military auto  fuel tank  drone  naval ship  anti-aircraft warfare  \\\n",
      "961          100.0       60.0      0           2                      0   \n",
      "960          130.0       60.0      2           2                      0   \n",
      "959          130.0       60.0      2           2                      0   \n",
      "958          291.0       60.0      3           2                      5   \n",
      "957          305.0       60.0      3           2                      7   \n",
      "956          355.0       60.0      3           2                      9   \n",
      "955          374.0       60.0      3           2                     11   \n",
      "954          404.0       60.0      3           2                     18   \n",
      "953          409.0       60.0      3           2                     19   \n",
      "952          447.0       60.0      4           2                     21   \n",
      "\n",
      "     special equipment  mobile SRBM system greatest losses direction  \\\n",
      "961                NaN                 NaN                       NaN   \n",
      "960                NaN                 NaN                       NaN   \n",
      "959                NaN                 NaN                       NaN   \n",
      "958                NaN                 NaN                       NaN   \n",
      "957                NaN                 NaN                       NaN   \n",
      "956                NaN                 NaN                       NaN   \n",
      "955                NaN                 NaN                       NaN   \n",
      "954                NaN                 NaN                       NaN   \n",
      "953                NaN                 NaN                       NaN   \n",
      "952                NaN                 NaN                       NaN   \n",
      "\n",
      "     vehicles and fuel tanks  cruise missiles  submarines  \n",
      "961                      NaN              NaN         NaN  \n",
      "960                      NaN              NaN         NaN  \n",
      "959                      NaN              NaN         NaN  \n",
      "958                      NaN              NaN         NaN  \n",
      "957                      NaN              NaN         NaN  \n",
      "956                      NaN              NaN         NaN  \n",
      "955                      NaN              NaN         NaN  \n",
      "954                      NaN              NaN         NaN  \n",
      "953                      NaN              NaN         NaN  \n",
      "952                      NaN              NaN         NaN  \n"
     ]
    }
   ],
   "source": [
    "df_eq['date']=pd.to_datetime(df_eq['date'])\n",
    "\n",
    "df_sorted=df_eq.sort_values(by='date')\n",
    "\n",
    "print(df_sorted.head(10))"
   ]
  },
  {
   "cell_type": "code",
   "execution_count": 88,
   "id": "eed6ad90",
   "metadata": {},
   "outputs": [
    {
     "name": "stdout",
     "output_type": "stream",
     "text": [
      "        date  day  aircraft  helicopter  tank    APC  field artillery   MRL  \\\n",
      "0 2024-10-13  963       369         329  8971  17876            19410  1231   \n",
      "1 2024-10-12  962       369         329  8962  17827            19381  1230   \n",
      "2 2024-10-11  961       369         329  8953  17800            19322  1229   \n",
      "3 2024-10-10  960       369         328  8945  17765            19263  1225   \n",
      "4 2024-10-09  959       369         328  8944  17751            19222  1223   \n",
      "\n",
      "   military auto    fuel tank  drone  naval ship  anti-aircraft warfare  \\\n",
      "0    1047.507692  1047.507692  16992          28                    978   \n",
      "1    1047.507692  1047.507692  16947          28                    976   \n",
      "2    1047.507692  1047.507692  16837          28                    976   \n",
      "3    1047.507692  1047.507692  16767          28                    976   \n",
      "4    1047.507692  1047.507692  16718          28                    973   \n",
      "\n",
      "   special equipment  mobile SRBM system greatest losses direction  \\\n",
      "0             3435.0            3.944444                       NaN   \n",
      "1             3434.0            3.944444                       NaN   \n",
      "2             3396.0            3.944444                       NaN   \n",
      "3             3386.0            3.944444                       NaN   \n",
      "4             3385.0            3.944444                       NaN   \n",
      "\n",
      "   vehicles and fuel tanks  cruise missiles  submarines  \n",
      "0                  26584.0           2619.0         1.0  \n",
      "1                  26513.0           2619.0         1.0  \n",
      "2                  26398.0           2619.0         1.0  \n",
      "3                  26314.0           2619.0         1.0  \n",
      "4                  26240.0           2618.0         1.0  \n"
     ]
    }
   ],
   "source": [
    "#Ortalama deger ataması\n",
    "df_eq['military auto']=df_eq[\"military auto\"].fillna(df_eq[\"military auto\"].mean())\n",
    "\n",
    "\n",
    "#Fuel Tank için yapalım\n",
    "df_eq[\"fuel tank\"]=df_eq[\"fuel tank\"].fillna(df_eq[\"military auto\"].mean())\n",
    "\n",
    "\n",
    "#Mobile SRBM icin yapalım(Kısa menzilli balistik füze)\n",
    "df_eq['mobile SRBM system'] = df_eq['mobile SRBM system'].fillna(df_eq['mobile SRBM system'].mean())\n",
    "\n",
    "#Submarines(Deniz Altı Kayıpları)\n",
    "df_eq['submarines']=df_eq['submarines'].fillna(df_eq['submarines'].mean())\n",
    "\n",
    "#Cruise'ler için yapalım\n",
    "df_eq['cruise missiles']=df_eq['cruise missiles'].fillna(df_eq['cruise missiles'].mean())\n",
    "\n",
    "\n",
    "#Vehicles and Fuel Tanks\n",
    "df_eq['vehicles and fuel tanks']=df_eq['vehicles and fuel tanks'].fillna(df_eq['vehicles and fuel tanks'].mean())\n",
    "\n",
    "print(df_eq.head())"
   ]
  },
  {
   "cell_type": "markdown",
   "id": "fadeeb20",
   "metadata": {},
   "source": [
    "Tekrar nan değerleri ortalamaya yakın atamasını yaptık."
   ]
  },
  {
   "cell_type": "code",
   "execution_count": 90,
   "id": "7e0bda3f",
   "metadata": {},
   "outputs": [
    {
     "name": "stdout",
     "output_type": "stream",
     "text": [
      "        date  day  aircraft  helicopter  tank    APC  field artillery   MRL  \\\n",
      "0 2024-10-13  963       369         329  8971  17876            19410  1231   \n",
      "1 2024-10-12  962       369         329  8962  17827            19381  1230   \n",
      "2 2024-10-11  961       369         329  8953  17800            19322  1229   \n",
      "3 2024-10-10  960       369         328  8945  17765            19263  1225   \n",
      "4 2024-10-09  959       369         328  8944  17751            19222  1223   \n",
      "\n",
      "   military auto    fuel tank  drone  naval ship  anti-aircraft warfare  \\\n",
      "0    1047.507692  1047.507692  16992          28                    978   \n",
      "1    1047.507692  1047.507692  16947          28                    976   \n",
      "2    1047.507692  1047.507692  16837          28                    976   \n",
      "3    1047.507692  1047.507692  16767          28                    976   \n",
      "4    1047.507692  1047.507692  16718          28                    973   \n",
      "\n",
      "   special equipment  mobile SRBM system  vehicles and fuel tanks  \\\n",
      "0             3435.0            3.944444                  26584.0   \n",
      "1             3434.0            3.944444                  26513.0   \n",
      "2             3396.0            3.944444                  26398.0   \n",
      "3             3386.0            3.944444                  26314.0   \n",
      "4             3385.0            3.944444                  26240.0   \n",
      "\n",
      "   cruise missiles  submarines  \n",
      "0           2619.0         1.0  \n",
      "1           2619.0         1.0  \n",
      "2           2619.0         1.0  \n",
      "3           2619.0         1.0  \n",
      "4           2618.0         1.0  \n"
     ]
    }
   ],
   "source": [
    "\n",
    "\n",
    "# Doğru sütun adıyla silme işlemi\n",
    "df_eq = df_eq.drop(columns=['greatest losses direction'], errors='ignore')\n",
    "\n",
    "# Silme işleminden sonra veri setinin ilk birkaç satırını kontrol edelim\n",
    "print(df_eq.head())"
   ]
  },
  {
   "cell_type": "code",
   "execution_count": 94,
   "id": "edac161b",
   "metadata": {},
   "outputs": [
    {
     "data": {
      "image/png": "[encoded data removed]",
      "text/plain": [
       "<Figure size 1000x600 with 1 Axes>"
      ]
     },
     "metadata": {},
     "output_type": "display_data"
    },
    {
     "data": {
      "image/png": "[encoded data removed]",
      "text/plain": [
       "<Figure size 1000x600 with 1 Axes>"
      ]
     },
     "metadata": {},
     "output_type": "display_data"
    }
   ],
   "source": [
    "#Tank Kayıplarını Zaman İçerisinde İnceleme\n",
    "\n",
    "import matplotlib.pyplot as plt\n",
    "\n",
    "#Veri tipini convert edelim\n",
    "df_eq['date']=pd.to_datetime(df_eq['date'])\n",
    "\n",
    "#Grafiği çizelim\n",
    "plt.figure(figsize=(10,6))\n",
    "plt.plot(df_eq['date'],df_eq['tank'])\n",
    "plt.title('UKRAYNA-RUSYA SAVAŞI SÜRECİNDE RUS TANK ZAYİATI')\n",
    "plt.xlabel('date')\n",
    "plt.ylabel('tank')\n",
    "plt.grid(True)\n",
    "plt.xticks(rotation=45)\n",
    "plt.tight_layout()\n",
    "\n",
    "plt.show()\n",
    "\n",
    "\n",
    "#Rus Tarafının Yaşadığı Drone Kayıplarını İnceleyelim\n",
    "plt.figure(figsize=(10,6))\n",
    "plt.plot(df_eq['date'],df_eq['drone'],color='red')\n",
    "plt.title('UKRAYNA-RUSYA SAVAŞI SÜRECİNDE RUS DRONE ZAYİATININ DAĞILIMI')\n",
    "plt.xlabel('date')\n",
    "plt.ylabel('drone')\n",
    "plt.grid(True)\n",
    "plt.xticks(rotation=45)\n",
    "plt.tight_layout()\n",
    "\n",
    "plt.show()"
   ]
  },
  {
   "cell_type": "markdown",
   "id": "d892fd48",
   "metadata": {},
   "source": [
    "Yukarıdaki grafikler Rusya-Ukrayna savaşı sürecinde Rusya'nın drone ve tank kayıplarının zaman içerisindeki değişimini gösteren grafiklerdir.\n",
    "\n",
    "1)Drone Kayıpları:\n",
    "2022 Mayıs ayından 2024 Ekim ayına kadar Rusya'nın drone kayıplarını göstermektedir.Özellikle 2023 yılının Eylül ayınan itibaren drone kayıplarında ki ivmenin hızlı bir ivme göstererek arttığını görmekteyiz.2023 yıl sonuna doğru bu kayıplar 17.000 üzerine çıkmaktadır.Bu rakam bizlere Drone teknolojisinin savaşlarda ne denli kullanıldığını ve bu sistemlerin kara hava savunma sistemlerince ne derece hedef alındığını bizlere gösterir.Artan Rus drone kayıpları ise savaşın süresi uzadıkça Ukrayna Devleti'nin hava savunma kabiliyetlerinin özellikle drone'a karşı savunma kabiliyetlerinin arttığını göstermektedir.\n",
    "\n",
    "2)Tank Kayıpları:\n",
    "Tank kayıplarında ki artışın Drone ile karşılaştırıldığı zaman daha düzenli bir artış seyrettiğini görürüz.Düzenli artış ile 8.000 üzerine çıkmıştır.Tank kayıplarında ki bu düzenli artış Rus Silahlı Kuvvetleri'nin kara muhaberelerinde tanklara önem verdiği ve zaman içerisinde de ciddi bir güç zayıflaması yaşadığını göstermektedir.Ayrıca verilere baktığımız zaman Ukrayna'nın anti-tank sistemlerinde gelişme olduğu yorumunu yapabiliriz."
   ]
  },
  {
   "cell_type": "code",
   "execution_count": 96,
   "id": "d63d2720",
   "metadata": {},
   "outputs": [
    {
     "data": {
      "text/html": [
       "<div>\n",
       "<style scoped>\n",
       "    .dataframe tbody tr th:only-of-type {\n",
       "        vertical-align: middle;\n",
       "    }\n",
       "\n",
       "    .dataframe tbody tr th {\n",
       "        vertical-align: top;\n",
       "    }\n",
       "\n",
       "    .dataframe thead th {\n",
       "        text-align: right;\n",
       "    }\n",
       "</style>\n",
       "<table border=\"1\" class=\"dataframe\">\n",
       "  <thead>\n",
       "    <tr style=\"text-align: right;\">\n",
       "      <th></th>\n",
       "      <th>tank</th>\n",
       "      <th>drone</th>\n",
       "      <th>helicopter</th>\n",
       "      <th>APC</th>\n",
       "      <th>MRL</th>\n",
       "    </tr>\n",
       "  </thead>\n",
       "  <tbody>\n",
       "    <tr>\n",
       "      <th>tank</th>\n",
       "      <td>1.000000</td>\n",
       "      <td>0.966123</td>\n",
       "      <td>0.837948</td>\n",
       "      <td>0.998653</td>\n",
       "      <td>0.989243</td>\n",
       "    </tr>\n",
       "    <tr>\n",
       "      <th>drone</th>\n",
       "      <td>0.966123</td>\n",
       "      <td>1.000000</td>\n",
       "      <td>0.692925</td>\n",
       "      <td>0.975476</td>\n",
       "      <td>0.936324</td>\n",
       "    </tr>\n",
       "    <tr>\n",
       "      <th>helicopter</th>\n",
       "      <td>0.837948</td>\n",
       "      <td>0.692925</td>\n",
       "      <td>1.000000</td>\n",
       "      <td>0.819426</td>\n",
       "      <td>0.870928</td>\n",
       "    </tr>\n",
       "    <tr>\n",
       "      <th>APC</th>\n",
       "      <td>0.998653</td>\n",
       "      <td>0.975476</td>\n",
       "      <td>0.819426</td>\n",
       "      <td>1.000000</td>\n",
       "      <td>0.982385</td>\n",
       "    </tr>\n",
       "    <tr>\n",
       "      <th>MRL</th>\n",
       "      <td>0.989243</td>\n",
       "      <td>0.936324</td>\n",
       "      <td>0.870928</td>\n",
       "      <td>0.982385</td>\n",
       "      <td>1.000000</td>\n",
       "    </tr>\n",
       "  </tbody>\n",
       "</table>\n",
       "</div>"
      ],
      "text/plain": [
       "                tank     drone  helicopter       APC       MRL\n",
       "tank        1.000000  0.966123    0.837948  0.998653  0.989243\n",
       "drone       0.966123  1.000000    0.692925  0.975476  0.936324\n",
       "helicopter  0.837948  0.692925    1.000000  0.819426  0.870928\n",
       "APC         0.998653  0.975476    0.819426  1.000000  0.982385\n",
       "MRL         0.989243  0.936324    0.870928  0.982385  1.000000"
      ]
     },
     "execution_count": 96,
     "metadata": {},
     "output_type": "execute_result"
    }
   ],
   "source": [
    "#Korelasyon Analizi\n",
    "# Calculate the correlation between different categories in the dataset\n",
    "korelasyon_matriksi = df_eq[['tank', 'drone', 'helicopter', 'APC', 'MRL']].corr()\n",
    "\n",
    "#Yazdıralım\n",
    "korelasyon_matriksi"
   ]
  },
  {
   "cell_type": "markdown",
   "id": "204787a4",
   "metadata": {},
   "source": [
    "Yukarıdaki korelasyon verilerine baktığımızda tank ve zpt(zırhlı personel taşıyıcı) arasında yüksek bir korelasyon bulunmaktadır.Bu da iki tip aracın beraber kullanımını gösterir olup.Tanklar cephe hattında saldırılara eşlik ederken zpt'lerin personeli bu cephelere taşıdığı yorumunu yapabilirz.Bu iki aracın aynı dönemlerdeki yoğun kayıpları bizlere kara savaşlarının hangi dönemlerde arttığını gösterir."
   ]
  },
  {
   "cell_type": "code",
   "execution_count": 10,
   "id": "06316843",
   "metadata": {},
   "outputs": [
    {
     "data": {
      "text/plain": [
       "(0.9939780682225187,\n",
       " array([149.89907998, -67.73858965,  30.36994968,   4.90490814]))"
      ]
     },
     "execution_count": 10,
     "metadata": {},
     "output_type": "execute_result"
    }
   ],
   "source": [
    "\n",
    "df_combined = pd.merge(df_eq, df[['date', 'personnel']], on='date')\n",
    "\n",
    "df_combined['personnel'] = pd.to_numeric(df_combined['personnel'], errors='coerce')\n",
    "\n",
    "df_combined_clean = df_combined.dropna(subset=['personnel', 'tank', 'APC', 'drone', 'helicopter'])\n",
    "\n",
    "from sklearn.model_selection import train_test_split\n",
    "from sklearn.linear_model import LinearRegression\n",
    "from sklearn.metrics import r2_score\n",
    "\n",
    "X = df_combined_clean[['tank', 'APC', 'drone', 'helicopter']]\n",
    "y = df_combined_clean['personnel']\n",
    "\n",
    "X_train, X_test, y_train, y_test = train_test_split(X, y, test_size=0.2, random_state=42)\n",
    "\n",
    "model = LinearRegression()\n",
    "\n",
    "model.fit(X_train, y_train)\n",
    "\n",
    "y_pred = model.predict(X_test)\n",
    "\n",
    "r_squared = r2_score(y_test, y_pred)\n",
    "\n",
    "r_squared, model.coef_\n"
   ]
  },
  {
   "cell_type": "markdown",
   "id": "87b14eb1",
   "metadata": {},
   "source": [
    "R^2 değeri personel kayıplarını açıklamak için yüksek bir değerdir.Model personel kayıplarını ekipman kayıplarıyla açıklayabilir\n",
    "\n",
    "1-Tank kayıpları arttıkça personel kaybı artıyor\n",
    "2-Personel kayıplarını azaltıyor negatif ilişki var\n",
    "3-Drone kayıpları personel kayıpları üzerinde hafif bir pozitif etkide bulunuyor\n",
    "4-Helikopter ve Personel kaybı arasında nispeten düşük bir ilişk var\n",
    "\n",
    "En çok personel kaybı sebebinin Tank sebebiyle olduğu Personel taşıyıcılarda ki negatif değerin Zpt'lerin personel korumasında ne denli önemli olduğunu gösteriyor."
   ]
  },
  {
   "cell_type": "code",
   "execution_count": null,
   "id": "188d6d00",
   "metadata": {},
   "outputs": [],
   "source": []
  }
 ],
 "metadata": {
  "kernelspec": {
   "display_name": "Python 3 (ipykernel)",
   "language": "python",
   "name": "python3"
  },
  "language_info": {
   "codemirror_mode": {
    "name": "ipython",
    "version": 3
   },
   "file_extension": ".py",
   "mimetype": "text/x-python",
   "name": "python",
   "nbconvert_exporter": "python",
   "pygments_lexer": "ipython3",
   "version": "3.11.3"
  }
 },
 "nbformat": 4,
 "nbformat_minor": 5
}
